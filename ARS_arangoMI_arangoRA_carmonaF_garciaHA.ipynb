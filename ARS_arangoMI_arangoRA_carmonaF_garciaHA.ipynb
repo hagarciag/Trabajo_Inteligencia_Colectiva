{
 "cells": [
  {
   "cell_type": "markdown",
   "metadata": {},
   "source": [
    "Kickstarter es una plataforma de financiamiento colaborativo donde una persona puede pedir ayuda para realizar un proyecto de diversos temas, como juegos, peliculas, arte y muchos mas. El creador del proyecto sube a la plataforma el proyecto que desea hacer realidad, y las personas , si les gusta el proyecto, lo patrocinan.\n",
    "\n",
    "Para más información ver el siguiente enlace: https://www.kickstarter.com/help/taxes?lang=es\n",
    "\n",
    "En ele presente trabajo se tomó como base el dataset del siguiente enlace:\n",
    "https://webrobots.io/kickstarter-datasets/\n",
    "Este dataset contiene el registro de miles de proyectos de la plataforma Kickstarter, se puede saber en que fecha fueron creados, su categoría, y si fué exitoso o no.\n"
   ]
  },
  {
   "cell_type": "markdown",
   "metadata": {},
   "source": [
    "El primer paso a seguir, luego de descargar los datos en formato csv, es consolidar todos ellos en un solo archivo para facilitar el procesamiento. A continuación el código en python 3 usado para esto"
   ]
  },
  {
   "cell_type": "code",
   "execution_count": null,
   "metadata": {
    "collapsed": true
   },
   "outputs": [],
   "source": [
    "# Este código debe ser ejecutado en la misma carpeta donde se encuentren los archivos\n",
    "# csv descargados y descomprimidos. Asegurar que no exista otro archivo csv ajeno a los de Kickstarter\n",
    "\n",
    "\n",
    "\n",
    "# Paquetes a importar, para manejar los datos en un dataframe\n",
    "import glob\n",
    "import pandas \n",
    "\n",
    "\n",
    "def ReadFile(path):\n",
    "    # Dada la ruta de un archivo, se lee este, y se separan ciertas columnas de interés para analizar\n",
    "    # no todas las columnas tienen información relevante\n",
    "    file = pandas.read_csv(path, skiprows = 0, sep = ',', header=0,\n",
    "                 usecols = ['id', 'name', 'blurb', 'goal',\n",
    "                            'state', 'pledged', 'state', 'country',\n",
    "                            'currency', 'deadline', 'launched_at',\n",
    "                            'backers_count', 'creator', 'location',\n",
    "                            'category', 'spotlight', 'staff_pick'])\n",
    "\n",
    "    # La columna location tiene un formato json con muchos campos innecesarios\n",
    "    # se debe separar la información pedida, en este caso la ciudad en donde se realizó el proyecto\n",
    "    file['location'] = file['location'].str.split('displayable_name').str[1]\n",
    "    file['location'] = file['location'].str.split('\"').str[2]\n",
    "    \n",
    "    # La columna creator tiene un formato json con muchos campos innecesarios\n",
    "    # se debe separar la información pedida, en este caso el nombre de la persona o entidad que creó el proyecto\n",
    "    file['creator'] = file['creator'].str.split(':').str[10]\n",
    "    file['creator'] = file['creator'].str.split(',').str[0]\n",
    "    \n",
    "    # la columna category tambien tiene un formato json con campos innecesarios, se separa la categoría del proyecto\n",
    "    file['category'] = file['category'].str.split(':').str[-1]\n",
    "    file['category'] = file['category'].str.split('\"').str[1]\n",
    "    # Tambien se obtiene la subcategoría de cada proyecto\n",
    "    file['subcategory'] = file['category'].str.split('/').str[1]\n",
    "    file['category'] = file['category'].str.split('/').str[0]\n",
    "    \n",
    "    # Los campos deadline (que indica el momento en que terminó el proyecto) y \n",
    "    # launched_at (que indica el momento en que inició un proyecto) están en formato timestamp de unix\n",
    "    # así que se deben transformar a una fecha legible\n",
    "    file['deadline']=pandas.to_datetime(file['deadline'], unit='s')\n",
    "    file['launced_at']=pandas.to_datetime(file['launched_at'], unit='s')\n",
    "    \n",
    "    # Este campo tiene la descripción del proyecto, para evitar problemas de lectura posteriores\n",
    "    # se reemplazan los ; por .\n",
    "    file['blurb'] = file['blurb'].replace(';', '.')\n",
    "    \n",
    "    # se filtran los proyectos por aquellos que fueron exitoso y fallidos\n",
    "    # pues el objetivo es predecir si un poryecto será exitoso o no\n",
    "    file.drop( \n",
    "            file[(file['state'] != 'successful') & (file['state'] != 'failed') ].index, \n",
    "            inplace = True)\n",
    "  \n",
    "    return file\n",
    "\n",
    "# Se toma el nombre de todos los archivos .csv que existan en la carpeta actual\n",
    "pathFiles = glob.glob('*.csv')\n",
    "# se descarta el archivo consolidado.csv, que será el archivo con todos los datos en uno solo\n",
    "if (\"consolidado.csv\" in pathFiles):\n",
    "    pathFiles.remove('consolidado.csv')\n",
    "    \n",
    "# este será el dataframe que contendrá la información\n",
    "bigFile = pandas.DataFrame()\n",
    "    \n",
    "# Procesa cada archivo y lo anexa a un solo DataFrame\n",
    "for path in pathFiles:\n",
    "    print(path)\n",
    "    bigFile = bigFile.append(ReadFile(path), ignore_index = True)\n",
    "\n",
    "# eliminar filas duplicadas\n",
    "bigFile.drop_duplicates(inplace = True)\n",
    "\n",
    "\n",
    "# Guardar archivo\n",
    "print(\"Guardando archivo consolidado\")\n",
    "bigFile.to_csv(\"consolidado.csv\", sep = \";\", na_rep = '', index = False)\n",
    "\n"
   ]
  },
  {
   "cell_type": "code",
   "execution_count": null,
   "metadata": {
    "collapsed": true
   },
   "outputs": [],
   "source": [
    "Continuando con un análisis"
   ]
  },
  {
   "cell_type": "code",
   "execution_count": null,
   "metadata": {
    "collapsed": true
   },
   "outputs": [],
   "source": []
  },
  {
   "cell_type": "markdown",
   "metadata": {
    "collapsed": true
   },
   "source": [
    "A continuación se muestra un análisis de los proyectos por categorías"
   ]
  },
  {
   "cell_type": "code",
   "execution_count": 1,
   "metadata": {},
   "outputs": [
    {
     "data": {
      "image/png": "[encoded data removed]",
      "text/plain": [
       "<matplotlib.figure.Figure at 0x7f6684467048>"
      ]
     },
     "metadata": {},
     "output_type": "display_data"
    },
    {
     "data": {
      "image/png": "[encoded data removed]",
      "text/plain": [
       "<matplotlib.figure.Figure at 0x7f66740a7da0>"
      ]
     },
     "metadata": {},
     "output_type": "display_data"
    },
    {
     "name": "stdout",
     "output_type": "stream",
     "text": [
      "       Categoria  Patrocinadores     Exito  Cantidad       Objetivo\n",
      "0         crafts       23.351607  0.255166      3484   11958.140069\n",
      "1     journalism       38.500198  0.208878      2523   72587.162109\n",
      "2          dance       40.335622  0.581998      1311   10999.266972\n",
      "3    photography       43.313273  0.318404      4287   15380.141124\n",
      "4        theater       46.487239  0.601218      3448   44139.683585\n",
      "5            art       46.898684  0.485204     16187   28829.748452\n",
      "6           food       47.866774  0.240721     11154   58606.171149\n",
      "7          music       63.411879  0.653443     22611    9346.768116\n",
      "8        fashion       97.524663  0.407580      7704   20189.291277\n",
      "9   film & video      101.426136  0.585731     21235  110985.254058\n",
      "10    publishing      107.742941  0.673688     15335   11574.202705\n",
      "11        comics      153.018443  0.626064      4934    8923.121605\n",
      "12    technology      237.167679  0.304736     16132   97134.643334\n",
      "13        design      333.221021  0.622222      4995   66682.719620\n",
      "14         games      605.102201  0.644093      8904   43450.013365\n"
     ]
    }
   ],
   "source": [
    "import pandas \n",
    "import matplotlib.pyplot as plt\n",
    "import numpy as np\n",
    "\n",
    "# Leer el archivo consolidado\n",
    "file = pandas.read_csv(\"consolidado.csv\", skiprows = 0, sep = ';', header=0)\n",
    "\n",
    "# Para obtener el promedio de exito, reemplazar un exito con 1, fracaso con 0\n",
    "file['state'] = file['state'].replace('successful', 1)\n",
    "file['state'] = file['state'].replace('failed', 0)\n",
    "\n",
    "# Por categoría, obtener la cantidad de proyectos, el porcentaje de exitos\n",
    "# el promedio de patrocinadores y el promedio del tamaño del objetivo\n",
    "frecuenciaCategoria = file.groupby('category').agg(\n",
    "        {'backers_count':'mean', 'state':'mean', 'category':'count',\n",
    "         'goal': 'mean'}\n",
    "   )\n",
    "# Renombrar las columnas para un mas fácil uso\n",
    "frecuenciaCategoria.columns = ['Patrocinadores', 'Exito', 'Cantidad', 'Objetivo']\n",
    "frecuenciaCategoria.reset_index(inplace=True)\n",
    "frecuenciaCategoria.columns = ['Categoria', 'Patrocinadores', 'Exito', 'Cantidad', 'Objetivo']\n",
    "\n",
    "\n",
    "# Reordenar según el promedio de patrocinadores\n",
    "frecuenciaCategoria.sort_values(by = ['Patrocinadores'], inplace = True)\n",
    "frecuenciaCategoria.reset_index(inplace=True, drop = True)\n",
    "\n",
    "# Graficar el promedio de patrocinadores vs el éxito obtenido\n",
    "plt.figure()\n",
    "plt.plot( list(frecuenciaCategoria['Patrocinadores']), \n",
    "          list(frecuenciaCategoria['Exito']),\n",
    "          'ro')\n",
    "plt.title('Promedio de patrocinadores vs Porcentaje de exito por categoría')\n",
    "plt.xlabel('Promedio de patrocinadores')\n",
    "plt.ylabel('Porcentaje de exito')\n",
    "plt.show(block=False)\n",
    "\n",
    "\n",
    "# Graficar el tamaño promedio del objetivo vs el éxito obtenido\n",
    "plt.figure()\n",
    "plt.plot( list(frecuenciaCategoria['Objetivo']), \n",
    "          list(frecuenciaCategoria['Exito']),\n",
    "          'ro')\n",
    "plt.title('Promedio del objetivo vs Porcentaje de exito por categoría')\n",
    "plt.xlabel('Promedio del objetivo')\n",
    "plt.ylabel('Porcentaje de exito')\n",
    "plt.show(block=False)\n",
    "\n",
    "print(frecuenciaCategoria)"
   ]
  },
  {
   "cell_type": "markdown",
   "metadata": {},
   "source": [
    "Las gráficas anteriores indica que hay cierta tendencia a que los proyectos sean mas exitosos a medida que el proyecto tiene mas patrocinadores, aunque esto no se cumple para la categoría \"technology\""
   ]
  },
  {
   "cell_type": "code",
   "execution_count": null,
   "metadata": {
    "collapsed": true
   },
   "outputs": [],
   "source": []
  },
  {
   "cell_type": "markdown",
   "metadata": {},
   "source": [
    "A continuación se procede a buscar las categorías mas exitosas, así como las que tiene mas patrocinadores"
   ]
  },
  {
   "cell_type": "code",
   "execution_count": 2,
   "metadata": {},
   "outputs": [
    {
     "name": "stdout",
     "output_type": "stream",
     "text": [
      "Categorías más apoyadas: \n",
      "games: 605 patrocinadores por proyecto\n",
      "design: 333 patrocinadores por proyecto\n",
      "technology: 237 patrocinadores por proyecto\n",
      "comics: 153 patrocinadores por proyecto\n",
      "publishing: 107 patrocinadores por proyecto\n",
      "\n",
      "\n",
      "Categorías menos apoyadas: \n",
      "crafts: 23 patrocinadores por proyecto\n",
      "journalism: 38 patrocinadores por proyecto\n",
      "dance: 40 patrocinadores por proyecto\n",
      "photography: 43 patrocinadores por proyecto\n",
      "theater: 46 patrocinadores por proyecto\n"
     ]
    }
   ],
   "source": [
    "# se reordena la tabla de frecuencias según la variable 'Patrocinadores', \n",
    "# para saber cual categoría tiene mas y cual menos\n",
    "frecuenciaCategoria.sort_values(\n",
    "        by = ['Patrocinadores'], \n",
    "        ascending=[1], \n",
    "        inplace = True)\n",
    "frecuenciaCategoria.reset_index(inplace=True, drop=True)   \n",
    "\n",
    "\n",
    "print(\"Categorías más apoyadas: \")\n",
    "for i in range(0, 5):\n",
    "    n = len(frecuenciaCategoria)-1-i\n",
    "    print( frecuenciaCategoria.loc[n, 'Categoria'] + ': ' \n",
    "          + str(int(frecuenciaCategoria.loc[n, 'Patrocinadores'])) \n",
    "          + ' patrocinadores por proyecto')\n",
    "  \n",
    "print('')\n",
    "print('')\n",
    "\n",
    "print(\"Categorías menos apoyadas: \")\n",
    "for i in range(0, 5):\n",
    "    print( frecuenciaCategoria.loc[i, 'Categoria'] + ': ' \n",
    "          + str(int(frecuenciaCategoria.loc[i, 'Patrocinadores']))  \n",
    "          + ' patrocinadores por proyecto')"
   ]
  },
  {
   "cell_type": "code",
   "execution_count": 5,
   "metadata": {},
   "outputs": [
    {
     "name": "stdout",
     "output_type": "stream",
     "text": [
      "Categorías mas exitosas: \n",
      "publishing: 67%\n",
      "music: 65%\n",
      "games: 64%\n",
      "comics: 62%\n",
      "design: 62%\n",
      "\n",
      "\n",
      "Categorías menos exitosas: \n",
      "journalism: 20%\n",
      "food: 24%\n",
      "crafts: 25%\n",
      "technology: 30%\n",
      "photography: 31%\n"
     ]
    }
   ],
   "source": [
    " # reordenar según el exito promedio de la categoría\n",
    "frecuenciaCategoria.sort_values(\n",
    "        by = ['Exito'], \n",
    "        ascending=[1], \n",
    "        inplace = True)\n",
    "frecuenciaCategoria.reset_index(inplace=True, drop=True)   \n",
    " \n",
    "  \n",
    "print(\"Categorías mas exitosas: \")\n",
    "for i in range(0, 5):\n",
    "    n = len(frecuenciaCategoria)-1-i\n",
    "    print( frecuenciaCategoria.loc[n, 'Categoria'] + ': ' \n",
    "          + str(int(frecuenciaCategoria.loc[n, 'Exito'] * 100))  \n",
    "          + '%')\n",
    "print('')\n",
    "print('')    \n",
    "\n",
    "print(\"Categorías menos exitosas: \")\n",
    "for i in range(0, 5):\n",
    "    print( frecuenciaCategoria.loc[i, 'Categoria'] + ': ' \n",
    "          + str(int(frecuenciaCategoria.loc[i, 'Exito'] * 100))  \n",
    "          + '%')\n"
   ]
  },
  {
   "cell_type": "code",
   "execution_count": 6,
   "metadata": {},
   "outputs": [
    {
     "name": "stdout",
     "output_type": "stream",
     "text": [
      "Categorías más ambiciosas: \n",
      "film & video: 110985$ por proyecto\n",
      "technology: 97134$ por proyecto\n",
      "journalism: 72587$ por proyecto\n",
      "design: 66682$ por proyecto\n",
      "food: 58606$ por proyecto\n",
      "\n",
      "\n",
      "Categorías menos ambiciosas: \n",
      "comics: 8923$ por proyecto\n",
      "music: 9346$ por proyecto\n",
      "dance: 10999$ por proyecto\n",
      "publishing: 11574$ por proyecto\n",
      "crafts: 11958$ por proyecto\n"
     ]
    }
   ],
   "source": [
    "frecuenciaCategoria.sort_values(\n",
    "        by = ['Objetivo'], \n",
    "        ascending=[1], \n",
    "        inplace = True)\n",
    "frecuenciaCategoria.reset_index(inplace=True, drop=True)   \n",
    "\n",
    "print(\"Categorías más ambiciosas: \")\n",
    "for i in range(0, 5):\n",
    "    n = len(frecuenciaCategoria)-1-i\n",
    "    print( frecuenciaCategoria.loc[n, 'Categoria'] + ': ' \n",
    "          + str(int(frecuenciaCategoria.loc[n, 'Objetivo']))\n",
    "          + '$ por proyecto')\n",
    "\n",
    "print('')\n",
    "print('')\n",
    "\n",
    "\n",
    "print(\"Categorías menos ambiciosas: \")\n",
    "for i in range(0, 5):\n",
    "    print( frecuenciaCategoria.loc[i, 'Categoria'] + ': ' \n",
    "          + str(int(frecuenciaCategoria.loc[i, 'Objetivo']))\n",
    "          + '$ por proyecto')    \n",
    "    \n",
    " "
   ]
  },
  {
   "cell_type": "code",
   "execution_count": null,
   "metadata": {
    "collapsed": true
   },
   "outputs": [],
   "source": []
  },
  {
   "cell_type": "code",
   "execution_count": null,
   "metadata": {
    "collapsed": true
   },
   "outputs": [],
   "source": []
  },
  {
   "cell_type": "code",
   "execution_count": null,
   "metadata": {
    "collapsed": true
   },
   "outputs": [],
   "source": []
  },
  {
   "cell_type": "code",
   "execution_count": null,
   "metadata": {
    "collapsed": true
   },
   "outputs": [],
   "source": []
  },
  {
   "cell_type": "code",
   "execution_count": null,
   "metadata": {
    "collapsed": true
   },
   "outputs": [],
   "source": []
  },
  {
   "cell_type": "code",
   "execution_count": null,
   "metadata": {
    "collapsed": true
   },
   "outputs": [],
   "source": []
  },
  {
   "cell_type": "markdown",
   "metadata": {},
   "source": [
    "Sistema de predicción de exito o fracaso de un proyecto."
   ]
  },
  {
   "cell_type": "code",
   "execution_count": 1,
   "metadata": {},
   "outputs": [
    {
     "name": "stderr",
     "output_type": "stream",
     "text": [
      "C:\\Users\\herngaga\\AppData\\Local\\Continuum\\anaconda3\\lib\\site-packages\\sklearn\\cross_validation.py:41: DeprecationWarning: This module was deprecated in version 0.18 in favor of the model_selection module into which all the refactored classes and functions are moved. Also note that the interface of the new CV iterators are different from that of this module. This module will be removed in 0.20.\n",
      "  \"This module will be removed in 0.20.\", DeprecationWarning)\n"
     ]
    },
    {
     "name": "stdout",
     "output_type": "stream",
     "text": [
      "Precision: 72.16%\n",
      "MSE: 0.27841197948\n"
     ]
    }
   ],
   "source": [
    "#Arbol con ensable de estimadores\n",
    "\n",
    "from sklearn import tree  \n",
    "import pydotplus  \n",
    "from IPython.display import Image  \n",
    "import pandas as pd\n",
    "import numpy as np\n",
    "from sklearn.cross_validation import train_test_split\n",
    "from sklearn.tree import DecisionTreeClassifier\n",
    "from sklearn import preprocessing\n",
    "import sklearn.metrics as sm\n",
    "from sklearn.metrics import mean_squared_error\n",
    "from sklearn.ensemble import BaggingClassifier\n",
    "\n",
    "#Lectura archivo\n",
    "data=pd.read_csv('consolidado.csv',  # el archivo\n",
    "                    sep = ';',         # separador de campos\n",
    "                    thousands = None,  # separador de miles para números\n",
    "                    decimal = '.',\n",
    "                    skiprows = 0,\n",
    "                    header=0)     # separador de los decimales para números\n",
    "\n",
    "#Semanas campaña\n",
    "data['semanas_campana'] = ((pd.to_datetime(data['deadline']) - pd.to_datetime(data['launched_at']))/ np.timedelta64(1, 'W')).astype(int)\n",
    "\n",
    "#Longitud descripcion\n",
    "sizes = [len(i) for i in data['blurb'].astype(str)]\n",
    "data['longitud_descripcion']=sizes\n",
    "\n",
    "#Variables dummy de categoria\n",
    "df_categoria = pd.get_dummies(data['category'])\n",
    "data = data.join(df_categoria)\n",
    "\n",
    "#Variables dummy de country\n",
    "df_country = pd.get_dummies(data['country'])\n",
    "data = data.join(df_country)\n",
    "\n",
    "#Variables dummy de subcategory\n",
    "df_subcategory = pd.get_dummies(data['subcategory'])\n",
    "data = data.join(df_subcategory)\n",
    "\n",
    "#Normalizar valor objetivo\n",
    "#data['goal'] = preprocessing.scale(data['goal'])\n",
    "#longitud_descripcion\n",
    "cols = ['goal', 'semanas_campana', 'art', 'comics', 'crafts',\n",
    "       'dance', 'design', 'fashion', 'film & video', 'food', 'games',\n",
    "       'journalism', 'music', 'photography', 'publishing', 'technology',\n",
    "       'theater', \n",
    "       'AT', 'AU', 'BE', 'CA', 'CH', 'DE', 'DK', 'ES', 'FR', 'GB', 'HK', 'IE', 'IT', 'JP', 'LU', 'MX', 'NL', 'NO', \n",
    "'NZ', 'SE', 'SG', 'US', '3d printing', 'academic', 'accessories', 'action', 'animals', 'animation', 'anthologies', \n",
    "'apparel', 'apps', 'architecture', 'art books', 'audio', 'bacon', 'blues', 'calendars', 'camera equipment', 'candles', \n",
    "'ceramics', 'children\\'s books', 'childrenswear', 'chiptune', 'civic design', 'classical music', 'comedy', \n",
    "'comic books', 'community gardens', 'conceptual art', 'cookbooks', 'country & folk', 'couture', 'crochet', \n",
    "'digital art', 'diy', 'diy electronics', 'documentary', 'drama', 'drinks', 'electronic music', 'embroidery', \n",
    "'events', 'experimental', 'fabrication tools', 'faith', 'family', 'fantasy', 'farmer\\'s markets', 'farms', \n",
    "'festivals', 'fiction', 'fine art', 'flight', 'food trucks', 'footwear', 'gadgets', 'gaming hardware', 'glass', \n",
    "'graphic design', 'graphic novels', 'hardware', 'hip-hop', 'horror', 'illustration', 'immersive', 'indie rock', \n",
    "'installations', 'interactive design', 'jazz', 'jewelry', 'kids', 'knitting', 'latin', 'letterpress', \n",
    "'literary journals', 'literary spaces', 'live games', 'makerspaces', 'metal', 'mixed media', 'mobile games', \n",
    "'movie theaters', 'music videos', 'musical', 'narrative film', 'nature', 'nonfiction', 'painting', 'people', \n",
    "'performance art', 'performances', 'periodicals', 'pet fashion', 'photo', 'photobooks', 'places', 'playing cards', \n",
    "'plays', 'poetry', 'pop', 'pottery', 'print', 'printing', 'product design', 'public art', 'punk', 'puzzles', \n",
    "'quilts', 'r&b', 'radio & podcasts', 'ready-to-wear', 'residencies', 'restaurants', 'robots', 'rock', 'romance', \n",
    "'science fiction', 'sculpture', 'shorts', 'small batch', 'software', 'sound', 'space exploration', 'spaces', \n",
    "'stationery', 'tabletop games', 'taxidermy', 'television', 'textiles', 'thrillers', 'translations', 'typography', \n",
    "'vegan', 'video', 'video art', 'video games', 'wearables', 'weaving', 'web', 'webcomics', 'webseries', 'woodworking', \n",
    "'workshops', 'world music', 'young adult', 'zines', 'state'\n",
    "]\n",
    "\n",
    "data=data[cols]\n",
    "# longitud_descripcion\n",
    "data.columns=['goal', 'semanas_campana', 'art', 'comics', 'crafts',\n",
    "       'dance', 'design', 'fashion', 'film \\& video', 'food', 'games',\n",
    "       'journalism', 'music', 'photography', 'publishing', 'technology',\n",
    "       'theater',\n",
    "       'AT', 'AU', 'BE', 'CA', 'CH', 'DE', 'DK', 'ES', 'FR', 'GB', 'HK', 'IE', 'IT', 'JP', 'LU', 'MX', 'NL', 'NO', \n",
    "'NZ', 'SE', 'SG', 'US', '3d printing', 'academic', 'accessories', 'action', 'animals', 'animation', 'anthologies', \n",
    "'apparel', 'apps', 'architecture', 'art books', 'audio', 'bacon', 'blues', 'calendars', 'camera equipment', 'candles', \n",
    "'ceramics', 'children\\'s books', 'childrenswear', 'chiptune', 'civic design', 'classical music', 'comedy', \n",
    "'comic books', 'community gardens', 'conceptual art', 'cookbooks', 'country \\& folk', 'couture', 'crochet', \n",
    "'digital art', 'diy', 'diy electronics', 'documentary', 'drama', 'drinks', 'electronic music', 'embroidery', \n",
    "'events', 'experimental', 'fabrication tools', 'faith', 'family', 'fantasy', 'farmer\\'s markets', 'farms', \n",
    "'festivals', 'fiction', 'fine art', 'flight', 'food trucks', 'footwear', 'gadgets', 'gaming hardware', 'glass', \n",
    "'graphic design', 'graphic novels', 'hardware', 'hip-hop', 'horror', 'illustration', 'immersive', 'indie rock', \n",
    "'installations', 'interactive design', 'jazz', 'jewelry', 'kids', 'knitting', 'latin', 'letterpress', \n",
    "'literary journals', 'literary spaces', 'live games', 'makerspaces', 'metal', 'mixed media', 'mobile games', \n",
    "'movie theaters', 'music videos', 'musical', 'narrative film', 'nature', 'nonfiction', 'painting', 'people', \n",
    "'performance art', 'performances', 'periodicals', 'pet fashion', 'photo', 'photobooks', 'places', 'playing cards', \n",
    "'plays', 'poetry', 'pop', 'pottery', 'print', 'printing', 'product design', 'public art', 'punk', 'puzzles', \n",
    "'quilts', 'r\\&b', 'radio \\& podcasts', 'ready-to-wear', 'residencies', 'restaurants', 'robots', 'rock', 'romance', \n",
    "'science fiction', 'sculpture', 'shorts', 'small batch', 'software', 'sound', 'space exploration', 'spaces', \n",
    "'stationery', 'tabletop games', 'taxidermy', 'television', 'textiles', 'thrillers', 'translations', 'typography', \n",
    "'vegan', 'video', 'video art', 'video games', 'wearables', 'weaving', 'web', 'webcomics', 'webseries', 'woodworking', \n",
    "'workshops', 'world music', 'young adult', 'zines', 'state'\n",
    "]\n",
    "\n",
    "cols=data.columns\n",
    "\n",
    "data[\"state\"]= data['state'].map({'successful': 1, 'failed': 0})\n",
    "           \n",
    "#data.to_csv(\"dataset_arbol.csv\", sep = \";\", na_rep = '', index = False)\n",
    "\n",
    "features = list(cols[:183])\n",
    "data = data.as_matrix()\n",
    "data = np.matrix(data)\n",
    "\n",
    "X_train, X_test, y_train, y_test = train_test_split(\n",
    "    data[:,:-1], np.ravel(data[:,183:184]), test_size=0.30, random_state=42)\n",
    "\n",
    "tree1 = DecisionTreeClassifier()\n",
    "\n",
    "bag = BaggingClassifier(tree1, n_estimators=100, max_samples=0.8, random_state=1)\n",
    "bag1=bag.fit(X_train, y_train)\n",
    "\n",
    "\n",
    "y_pred=bag1.predict(X_test)\n",
    "\n",
    "accuracy = sm.accuracy_score(y_test, y_pred)\n",
    "\n",
    "print(\"Precision: %.2f%%\" % (accuracy*100.0))\n",
    "print(\"MSE:\",mean_squared_error(y_test, y_pred))\n",
    "\n",
    "#Se deshabilitar el grafico del arbol porque no funciona al incluir el ensable de estimadores (BaggingClassifier)\n",
    "#Se exporta el arbol al formato Graphviz \n",
    "#with open(\"iris.dot\", 'w') as f:\n",
    "#    f = tree.export_graphviz(bag1, out_file=f)\n",
    "    \n",
    "#export_graphviz soporta otras opciones tal como colorear y la funcion Image permite renderizar la imagen en el libro de Ipython\n",
    "#dot_data = tree.export_graphviz(bag1, out_file=None, \n",
    "#                     feature_names=features,  \n",
    "#                     class_names=['failed', 'succesful'],  \n",
    "#                     filled=True, rounded=True,  \n",
    "#                     special_characters=True)  \n",
    "#graph = pydotplus.graph_from_dot_data(dot_data)  \n",
    "#Image(graph.create_png())\n",
    "\n"
   ]
  },
  {
   "cell_type": "code",
   "execution_count": 2,
   "metadata": {},
   "outputs": [
    {
     "ename": "SyntaxError",
     "evalue": "invalid syntax (<ipython-input-2-6c7ade3299ff>, line 1)",
     "output_type": "error",
     "traceback": [
      "\u001b[1;36m  File \u001b[1;32m\"<ipython-input-2-6c7ade3299ff>\"\u001b[1;36m, line \u001b[1;32m1\u001b[0m\n\u001b[1;33m    Analisis de volumen de patrocinadores, valor metas y exito y fallo de una campaña\u001b[0m\n\u001b[1;37m              ^\u001b[0m\n\u001b[1;31mSyntaxError\u001b[0m\u001b[1;31m:\u001b[0m invalid syntax\n"
     ]
    }
   ],
   "source": [
    "Analisis de volumen de patrocinadores, valor metas y exito y fallo de una campaña"
   ]
  },
  {
   "cell_type": "code",
   "execution_count": null,
   "metadata": {
    "collapsed": true
   },
   "outputs": [],
   "source": [
    "import pandas as pd\n",
    "import matplotlib.pyplot as plt\n",
    "import warnings\n",
    "warnings.filterwarnings('ignore')\n",
    "\n",
    "#Lectura archivo\n",
    "data=pd.read_csv('consolidado.csv',  # el archivo\n",
    "                    sep = ';',         # separador de campos\n",
    "                    thousands = None,  # separador de miles para números\n",
    "                    decimal = '.',\n",
    "                    skiprows = 0,\n",
    "                    header=0)     # separador de los decimales para números\n",
    "labels=['[1-2]', '(2-6]', '(6-14]', '(14-29]', '(29-51]', '(51-88]', '(88-189]', '(189-105857]']\n",
    "data_bakers=data.loc[data['backers_count'] > 0]\n",
    "#print(data_bakers.columns)\n",
    "\n",
    "data_bakers['Cant Patrocinadores']=pd.qcut(data_bakers['backers_count'], 8,labels=labels)\n",
    "\n",
    "#Dinero obtenido\n",
    "bins_dinero=data_bakers[['Cant Patrocinadores', 'goal', 'pledged']]\n",
    "\n",
    "bins_dinero.columns=['Cant Patrocinadores', 'Objetivo', 'Obtenido']\n",
    "\n",
    "bins_dinero=bins_dinero.groupby('Cant Patrocinadores').sum()\n",
    "\n",
    "#Estados\n",
    "df_state = pd.get_dummies(data_bakers['state'])\n",
    "data_bakers = data_bakers.join(df_state)\n",
    "\n",
    "bins_states=data_bakers[['Cant Patrocinadores', 'failed', 'successful']]\n",
    "\n",
    "bins_states.columns=['Cant Patrocinadores', 'Fallido', 'Exitoso']\n",
    "\n",
    "bins_states=bins_states.groupby('Cant Patrocinadores').sum()\n",
    "\n",
    "#Objetivos vs patrocinadores\n",
    "\n",
    "labels=['(0-750]', '(750-1700]', '(1700-3000]', '(3000-5000]', '(5000-8000]', '(8000-15000]', '(15000-30000]', '(30000-100 Mill]']\n",
    "data_objetivo=data.loc[data['goal'] > 0]\n",
    "\n",
    "\n",
    "#Objetivo vs Patrocinadores\n",
    "df_state = pd.get_dummies(data_bakers['state'])\n",
    "data_objetivo = data_objetivo.join(df_state)\n",
    "\n",
    "data_objetivo['failed_bakers']=data_objetivo['failed']*data_objetivo['backers_count']\n",
    "data_objetivo['successful_bakers']=data_objetivo['successful']*data_objetivo['backers_count']\n",
    "\n",
    "data_objetivo['Valor Objetivo']=pd.qcut(data_objetivo['goal'], 8,labels=labels)\n",
    "\n",
    "bins_objetivo_bakers=data_objetivo[['Valor Objetivo', 'failed_bakers', 'successful_bakers']]\n",
    "\n",
    "bins_objetivo_bakers=bins_objetivo_bakers.groupby('Valor Objetivo').sum()\n",
    "\n",
    "#print(bins_objetivo_bakers)\n",
    "bins_objetivo_bakers_porc_falledo=(bins_objetivo_bakers['failed_bakers']/(bins_objetivo_bakers['failed_bakers']+bins_objetivo_bakers['successful_bakers']))*100\n",
    "bins_objetivo_bakers_porc_exito=(bins_objetivo_bakers['successful_bakers']/(bins_objetivo_bakers['failed_bakers']+bins_objetivo_bakers['successful_bakers']))*100\n",
    "bins_objetivo_bakers['successful_bakers']=bins_objetivo_bakers_porc_exito\n",
    "bins_objetivo_bakers['failed_bakers']=bins_objetivo_bakers_porc_falledo\n",
    "\n",
    "#print(bins_objetivo_bakers)\n",
    "\n",
    "bins_objetivo_bakers.columns=['% Patrocinadores Campañas Fallidas', '% Patrocinadores Campañas Exitosas']\n",
    "\n",
    "\n",
    "\n",
    "#Objetivos vs recolectado\n",
    "\n",
    "data_objetivo['failed_recogido']=(data_objetivo['failed']*data_objetivo['pledged'])/1000000\n",
    "data_objetivo['successful_recogido']=(data_objetivo['successful']*data_objetivo['pledged'])/1000000\n",
    "\n",
    "bins_objetivo_recogido=data_objetivo[['Valor Objetivo', 'failed_recogido', 'successful_recogido']]\n",
    "\n",
    "bins_objetivo_recogido.columns=['Valor Objetivo', 'Millones Recolectado Campañas Fallidas', 'Millones Recolectado Campañas Exitosas']\n",
    "\n",
    "bins_objetivo_recogido=bins_objetivo_recogido.groupby('Valor Objetivo').sum()\n",
    "\n",
    "\n",
    "\n",
    "#Objetivos vs exito\n",
    "\n",
    "data_objetivo['failed_recogido']=(data_objetivo['failed']*data_objetivo['pledged'])/1000000\n",
    "data_objetivo['successful_recogido']=(data_objetivo['successful']*data_objetivo['pledged'])/1000000\n",
    "\n",
    "bins_objetivo_exito=data_objetivo[['Valor Objetivo', 'failed', 'successful']]\n",
    "\n",
    "bins_objetivo_exito.columns=['Valor Objetivo', 'Fallido', 'Exitoso']\n",
    "\n",
    "bins_objetivo_exito=bins_objetivo_exito.groupby('Valor Objetivo').sum()\n",
    "\n",
    "bins_objetivo_exito_porc_falledo=(bins_objetivo_exito['Fallido']/(bins_objetivo_exito['Fallido']+bins_objetivo_exito['Exitoso']))*100\n",
    "bins_objetivo_exito_porc_exito=(bins_objetivo_exito['Exitoso']/(bins_objetivo_exito['Fallido']+bins_objetivo_exito['Exitoso']))*100\n",
    "bins_objetivo_exito['Exitoso']=bins_objetivo_exito_porc_exito\n",
    "bins_objetivo_exito['Fallido']=bins_objetivo_exito_porc_falledo\n",
    "\n",
    "bins_objetivo_exito.columns=['% Fallos', '% Exitos']\n",
    "\n",
    "#El exito de un proyecto depende del volumen de apoyo que recibe.\n",
    "bins_states.plot.bar(stacked=True,figsize=(10, 6));\n",
    "\n",
    "#La cantidad de dinero recolectado aumenta con la meta. Entonces no se ve un fenomeno marcado de pocos dan mucho.\n",
    "bins_objetivo_recogido.plot.bar(stacked=True,figsize=(10, 6));\n",
    "\n",
    "#Mientras mayor sea la meta mas probabilidad de que falle el proyecto\n",
    "bins_objetivo_exito.plot.bar(figsize=(10, 6));\n",
    "\n",
    "#A pesar de que la probabilidad de fallo aumenta con el valor de  la meta, no cambia el porcentaje de patrocinadores \n",
    "# que apoyan las campañas exitosas. Es decir, muchos patrocinadores apoyan unos pocos proyectos\n",
    "bins_objetivo_bakers.plot.bar(figsize=(10, 6));\n",
    "\n",
    "plt.show()\n"
   ]
  }
 ],
 "metadata": {
  "kernelspec": {
   "display_name": "Python 3",
   "language": "python",
   "name": "python3"
  },
  "language_info": {
   "codemirror_mode": {
    "name": "ipython",
    "version": 3
   },
   "file_extension": ".py",
   "mimetype": "text/x-python",
   "name": "python",
   "nbconvert_exporter": "python",
   "pygments_lexer": "ipython3",
   "version": "3.6.3"
  }
 },
 "nbformat": 4,
 "nbformat_minor": 2
}
